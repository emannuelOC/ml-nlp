{
 "cells": [
  {
   "cell_type": "markdown",
   "metadata": {},
   "source": [
    "# Evaluating word2vec and GloVe vectors"
   ]
  },
  {
   "cell_type": "markdown",
   "metadata": {},
   "source": [
    "## GloVe"
   ]
  },
  {
   "cell_type": "code",
   "execution_count": 92,
   "metadata": {
    "collapsed": true
   },
   "outputs": [],
   "source": [
    "import matplotlib.pyplot as plt\n",
    "from gensim.models import Word2Vec\n",
    "from gensim.models.keyedvectors import KeyedVectors"
   ]
  },
  {
   "cell_type": "code",
   "execution_count": 47,
   "metadata": {},
   "outputs": [],
   "source": [
    "glove_wv50 = KeyedVectors.load_word2vec_format('../GloVe/vectors.txt', binary=False)\n",
    "glove_wv100 = KeyedVectors.load_word2vec_format('../GloVe/vectors100.txt', binary=False)\n",
    "glove_wv200 = KeyedVectors.load_word2vec_format('../GloVe/vectors200.txt', binary=False)"
   ]
  },
  {
   "cell_type": "code",
   "execution_count": 50,
   "metadata": {},
   "outputs": [],
   "source": [
    "acc_glove_50, acc_glove_100, acc_glove_200 = glove_wv50.accuracy('google-questions.txt'), glove_wv100.accuracy('google-questions.txt'), glove_wv200.accuracy('google-questions.txt')"
   ]
  },
  {
   "cell_type": "code",
   "execution_count": 87,
   "metadata": {},
   "outputs": [
    {
     "name": "stdout",
     "output_type": "stream",
     "text": [
      "(u'capital-common-countries', 9, 182)\n",
      "(u'capital-world', 6, 169)\n",
      "(u'currency', 0, 40)\n",
      "(u'city-in-state', 2, 398)\n",
      "(u'family', 101, 420)\n",
      "(u'gram1-adjective-to-adverb', 4, 650)\n",
      "(u'gram2-opposite', 0, 380)\n",
      "(u'gram3-comparative', 42, 702)\n",
      "(u'gram4-superlative', 33, 600)\n",
      "(u'gram5-present-participle', 38, 552)\n",
      "(u'gram6-nationality-adjective', 18, 633)\n",
      "(u'gram7-past-tense', 35, 992)\n",
      "(u'gram8-plural', 9, 702)\n",
      "(u'gram9-plural-verbs', 8, 380)\n",
      "('total', 305, 6800)\n",
      "--------\n",
      "(u'capital-common-countries', 12, 182)\n",
      "(u'capital-world', 5, 169)\n",
      "(u'currency', 0, 40)\n",
      "(u'city-in-state', 5, 398)\n",
      "(u'family', 119, 420)\n",
      "(u'gram1-adjective-to-adverb', 0, 650)\n",
      "(u'gram2-opposite', 0, 380)\n",
      "(u'gram3-comparative', 36, 702)\n",
      "(u'gram4-superlative', 31, 600)\n",
      "(u'gram5-present-participle', 46, 552)\n",
      "(u'gram6-nationality-adjective', 21, 633)\n",
      "(u'gram7-past-tense', 50, 992)\n",
      "(u'gram8-plural', 10, 702)\n",
      "(u'gram9-plural-verbs', 10, 380)\n",
      "('total', 345, 6800)\n",
      "--------\n",
      "(u'capital-common-countries', 6, 182)\n",
      "(u'capital-world', 3, 169)\n",
      "(u'currency', 0, 40)\n",
      "(u'city-in-state', 5, 398)\n",
      "(u'family', 101, 420)\n",
      "(u'gram1-adjective-to-adverb', 0, 650)\n",
      "(u'gram2-opposite', 0, 380)\n",
      "(u'gram3-comparative', 26, 702)\n",
      "(u'gram4-superlative', 17, 600)\n",
      "(u'gram5-present-participle', 30, 552)\n",
      "(u'gram6-nationality-adjective', 15, 633)\n",
      "(u'gram7-past-tense', 38, 992)\n",
      "(u'gram8-plural', 17, 702)\n",
      "(u'gram9-plural-verbs', 7, 380)\n",
      "('total', 265, 6800)\n",
      "--------\n"
     ]
    }
   ],
   "source": [
    "glove_results = []\n",
    "for acc in [acc_glove_50, acc_glove_100, acc_glove_200]:\n",
    "    for i in range(0, len(acc)): \n",
    "        print(acc[i][acc[i].keys()[1]], len(acc[i]['correct']), (len(acc[i]['correct']) + len(acc[i]['incorrect'])))\n",
    "    right = len(acc[-1]['correct'])\n",
    "    total = len(acc[-1]['incorrect']) + right\n",
    "    glove_results.append(float(right)/total)\n",
    "    print \"--------\""
   ]
  },
  {
   "cell_type": "code",
   "execution_count": 88,
   "metadata": {},
   "outputs": [
    {
     "name": "stdout",
     "output_type": "stream",
     "text": [
      "[0.04485294117647059, 0.05073529411764706, 0.03897058823529412]\n"
     ]
    }
   ],
   "source": [
    "print glove_results"
   ]
  },
  {
   "cell_type": "markdown",
   "metadata": {},
   "source": [
    "## word2vec"
   ]
  },
  {
   "cell_type": "code",
   "execution_count": 90,
   "metadata": {
    "collapsed": true
   },
   "outputs": [],
   "source": [
    "sentences_file = open('sentences.txt', 'r')\n",
    "sentences_text = sentences_file.read()\n",
    "sentences_file.close()\n",
    "sentences = [sentence.split() for sentence in sentences_text.split('\\n')]"
   ]
  },
  {
   "cell_type": "code",
   "execution_count": 93,
   "metadata": {},
   "outputs": [],
   "source": [
    "w2v_wv50 = Word2Vec(sentences, size=50, window=15, min_count=5, workers=4)\n",
    "w2v_wv100 = Word2Vec(sentences, size=100, window=15, min_count=5, workers=4)\n",
    "w2v_wv200 = Word2Vec(sentences, size=200, window=15, min_count=5, workers=4)"
   ]
  },
  {
   "cell_type": "code",
   "execution_count": 99,
   "metadata": {
    "collapsed": true
   },
   "outputs": [],
   "source": [
    "acc_w2v_50, acc_w2v_100, acc_w2v_200 = w2v_wv50.accuracy('google-questions.txt'), w2v_wv100.accuracy('google-questions.txt'), w2v_wv200.accuracy('google-questions.txt')"
   ]
  },
  {
   "cell_type": "code",
   "execution_count": 100,
   "metadata": {},
   "outputs": [
    {
     "name": "stdout",
     "output_type": "stream",
     "text": [
      "(u'capital-common-countries', 5, 182)\n",
      "(u'capital-world', 2, 169)\n",
      "(u'currency', 0, 40)\n",
      "(u'city-in-state', 1, 398)\n",
      "(u'family', 67, 420)\n",
      "(u'gram1-adjective-to-adverb', 2, 650)\n",
      "(u'gram2-opposite', 1, 380)\n",
      "(u'gram3-comparative', 47, 702)\n",
      "(u'gram4-superlative', 22, 600)\n",
      "(u'gram5-present-participle', 19, 552)\n",
      "(u'gram6-nationality-adjective', 12, 633)\n",
      "(u'gram7-past-tense', 46, 992)\n",
      "(u'gram8-plural', 18, 702)\n",
      "(u'gram9-plural-verbs', 7, 380)\n",
      "('total', 249, 6800)\n",
      "--------\n",
      "(u'capital-common-countries', 5, 182)\n",
      "(u'capital-world', 4, 169)\n",
      "(u'currency', 0, 40)\n",
      "(u'city-in-state', 1, 398)\n",
      "(u'family', 70, 420)\n",
      "(u'gram1-adjective-to-adverb', 1, 650)\n",
      "(u'gram2-opposite', 0, 380)\n",
      "(u'gram3-comparative', 50, 702)\n",
      "(u'gram4-superlative', 20, 600)\n",
      "(u'gram5-present-participle', 17, 552)\n",
      "(u'gram6-nationality-adjective', 8, 633)\n",
      "(u'gram7-past-tense', 52, 992)\n",
      "(u'gram8-plural', 15, 702)\n",
      "(u'gram9-plural-verbs', 5, 380)\n",
      "('total', 248, 6800)\n",
      "--------\n",
      "(u'capital-common-countries', 9, 182)\n",
      "(u'capital-world', 2, 169)\n",
      "(u'currency', 0, 40)\n",
      "(u'city-in-state', 0, 398)\n",
      "(u'family', 79, 420)\n",
      "(u'gram1-adjective-to-adverb', 3, 650)\n",
      "(u'gram2-opposite', 0, 380)\n",
      "(u'gram3-comparative', 48, 702)\n",
      "(u'gram4-superlative', 24, 600)\n",
      "(u'gram5-present-participle', 19, 552)\n",
      "(u'gram6-nationality-adjective', 7, 633)\n",
      "(u'gram7-past-tense', 38, 992)\n",
      "(u'gram8-plural', 13, 702)\n",
      "(u'gram9-plural-verbs', 6, 380)\n",
      "('total', 248, 6800)\n",
      "--------\n"
     ]
    }
   ],
   "source": [
    "w2v_results = []\n",
    "for acc in [acc_w2v_50, acc_w2v_100, acc_w2v_200]:\n",
    "    for i in range(0, len(acc)): \n",
    "        print(acc[i][acc[i].keys()[1]], len(acc[i]['correct']), (len(acc[i]['correct']) + len(acc[i]['incorrect'])))\n",
    "    right = len(acc[-1]['correct'])\n",
    "    total = len(acc[-1]['incorrect']) + right\n",
    "    w2v_results.append(float(right)/total)\n",
    "    print \"--------\""
   ]
  },
  {
   "cell_type": "code",
   "execution_count": null,
   "metadata": {
    "collapsed": true
   },
   "outputs": [],
   "source": []
  }
 ],
 "metadata": {
  "kernelspec": {
   "display_name": "Python 2",
   "language": "python",
   "name": "python2"
  },
  "language_info": {
   "codemirror_mode": {
    "name": "ipython",
    "version": 2
   },
   "file_extension": ".py",
   "mimetype": "text/x-python",
   "name": "python",
   "nbconvert_exporter": "python",
   "pygments_lexer": "ipython2",
   "version": "2.7.12"
  }
 },
 "nbformat": 4,
 "nbformat_minor": 2
}
